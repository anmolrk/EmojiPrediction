{
 "cells": [
  {
   "cell_type": "code",
   "execution_count": 77,
   "metadata": {},
   "outputs": [],
   "source": [
    "import pandas as pd\n",
    "import tensorflow as tf\n",
    "import numpy as np\n",
    "import matplotlib.pyplot as plt\n",
    "from scikitplot.metrics import plot_confusion_matrix\n",
    "from sklearn.metrics import classification_report\n",
    "from matplotlib import pyplot\n",
    "from sklearn.model_selection import train_test_split\n",
    "from tensorflow.keras.utils import to_categorical\n",
    "from tensorflow.keras import Sequential\n",
    "from tensorflow.keras.callbacks import Callback, EarlyStopping, ReduceLROnPlateau"
   ]
  },
  {
   "cell_type": "markdown",
   "metadata": {},
   "source": [
    "**Reading in the data from fer2013.csv**\n",
    "\n",
    "**The dataset is taken from `https://www.kaggle.com/gauravsharma99/facial-emotion-recognition/data`**"
   ]
  },
  {
   "cell_type": "code",
   "execution_count": 31,
   "metadata": {},
   "outputs": [],
   "source": [
    "df = pd.read_csv(\"./fer2013.csv\")"
   ]
  },
  {
   "cell_type": "markdown",
   "metadata": {},
   "source": [
    "**Checking the head of the dataframe**"
   ]
  },
  {
   "cell_type": "code",
   "execution_count": 32,
   "metadata": {},
   "outputs": [
    {
     "data": {
      "text/html": [
       "<div>\n",
       "<style scoped>\n",
       "    .dataframe tbody tr th:only-of-type {\n",
       "        vertical-align: middle;\n",
       "    }\n",
       "\n",
       "    .dataframe tbody tr th {\n",
       "        vertical-align: top;\n",
       "    }\n",
       "\n",
       "    .dataframe thead th {\n",
       "        text-align: right;\n",
       "    }\n",
       "</style>\n",
       "<table border=\"1\" class=\"dataframe\">\n",
       "  <thead>\n",
       "    <tr style=\"text-align: right;\">\n",
       "      <th></th>\n",
       "      <th>emotion</th>\n",
       "      <th>pixels</th>\n",
       "      <th>Usage</th>\n",
       "    </tr>\n",
       "  </thead>\n",
       "  <tbody>\n",
       "    <tr>\n",
       "      <th>0</th>\n",
       "      <td>0</td>\n",
       "      <td>70 80 82 72 58 58 60 63 54 58 60 48 89 115 121...</td>\n",
       "      <td>Training</td>\n",
       "    </tr>\n",
       "    <tr>\n",
       "      <th>1</th>\n",
       "      <td>0</td>\n",
       "      <td>151 150 147 155 148 133 111 140 170 174 182 15...</td>\n",
       "      <td>Training</td>\n",
       "    </tr>\n",
       "    <tr>\n",
       "      <th>2</th>\n",
       "      <td>2</td>\n",
       "      <td>231 212 156 164 174 138 161 173 182 200 106 38...</td>\n",
       "      <td>Training</td>\n",
       "    </tr>\n",
       "    <tr>\n",
       "      <th>3</th>\n",
       "      <td>4</td>\n",
       "      <td>24 32 36 30 32 23 19 20 30 41 21 22 32 34 21 1...</td>\n",
       "      <td>Training</td>\n",
       "    </tr>\n",
       "    <tr>\n",
       "      <th>4</th>\n",
       "      <td>6</td>\n",
       "      <td>4 0 0 0 0 0 0 0 0 0 0 0 3 15 23 28 48 50 58 84...</td>\n",
       "      <td>Training</td>\n",
       "    </tr>\n",
       "  </tbody>\n",
       "</table>\n",
       "</div>"
      ],
      "text/plain": [
       "   emotion                                             pixels     Usage\n",
       "0        0  70 80 82 72 58 58 60 63 54 58 60 48 89 115 121...  Training\n",
       "1        0  151 150 147 155 148 133 111 140 170 174 182 15...  Training\n",
       "2        2  231 212 156 164 174 138 161 173 182 200 106 38...  Training\n",
       "3        4  24 32 36 30 32 23 19 20 30 41 21 22 32 34 21 1...  Training\n",
       "4        6  4 0 0 0 0 0 0 0 0 0 0 0 3 15 23 28 48 50 58 84...  Training"
      ]
     },
     "execution_count": 32,
     "metadata": {},
     "output_type": "execute_result"
    }
   ],
   "source": [
    "df.head()"
   ]
  },
  {
   "cell_type": "markdown",
   "metadata": {},
   "source": [
    "**Let's see the distribution of the emotion classes over the data**"
   ]
  },
  {
   "cell_type": "code",
   "execution_count": 33,
   "metadata": {},
   "outputs": [
    {
     "data": {
      "text/plain": [
       "3    8989\n",
       "6    6198\n",
       "4    6077\n",
       "2    5121\n",
       "0    4953\n",
       "5    4002\n",
       "1     547\n",
       "Name: emotion, dtype: int64"
      ]
     },
     "execution_count": 33,
     "metadata": {},
     "output_type": "execute_result"
    }
   ],
   "source": [
    "df[\"emotion\"].value_counts()"
   ]
  },
  {
   "cell_type": "markdown",
   "metadata": {},
   "source": [
    "**It doesn't make much sence, lets add one more coloums with the named labels**"
   ]
  },
  {
   "cell_type": "code",
   "execution_count": 34,
   "metadata": {},
   "outputs": [],
   "source": [
    "emotion_labels = {0: \"angry\", 1: \"disgust\", 2: \"fear\", 3: \"happiness\", 4: \"sadness\", 5: \"surprise\", 6: \"neutral\"}"
   ]
  },
  {
   "cell_type": "markdown",
   "metadata": {},
   "source": [
    "**After creating the emotion labels, lets map them with the `emotion` coloumn of the dataframe**"
   ]
  },
  {
   "cell_type": "code",
   "execution_count": 35,
   "metadata": {},
   "outputs": [],
   "source": [
    "df[\"em\"] = df[\"emotion\"].map(emotion_labels)"
   ]
  },
  {
   "cell_type": "markdown",
   "metadata": {},
   "source": [
    "**Now let's check the distribution again...**"
   ]
  },
  {
   "cell_type": "code",
   "execution_count": 36,
   "metadata": {},
   "outputs": [
    {
     "data": {
      "text/plain": [
       "happiness    8989\n",
       "neutral      6198\n",
       "sadness      6077\n",
       "fear         5121\n",
       "angry        4953\n",
       "surprise     4002\n",
       "disgust       547\n",
       "Name: em, dtype: int64"
      ]
     },
     "execution_count": 36,
     "metadata": {},
     "output_type": "execute_result"
    }
   ],
   "source": [
    "df[\"em\"].value_counts()"
   ]
  },
  {
   "cell_type": "markdown",
   "metadata": {},
   "source": [
    "**Woooo ! this makes sense now.**\n",
    "\n",
    "**But is seems like the data is uneven and unbalanced.**\n",
    "\n",
    "**Let's keep the following calasses:**\n",
    "* **Happiness**\n",
    "* **Sadness**\n",
    "* **Neutral**"
   ]
  },
  {
   "cell_type": "markdown",
   "metadata": {},
   "source": [
    "**First, let's create another dataframe to avoide messing with the original dataframe**"
   ]
  },
  {
   "cell_type": "code",
   "execution_count": 37,
   "metadata": {},
   "outputs": [],
   "source": [
    "training_dataframe = df"
   ]
  },
  {
   "cell_type": "code",
   "execution_count": 38,
   "metadata": {},
   "outputs": [],
   "source": [
    "required_emotions = [3, 4, 6]\n",
    "training_dataframe = training_dataframe[training_dataframe[\"emotion\"].isin(required_emotions)]"
   ]
  },
  {
   "cell_type": "markdown",
   "metadata": {},
   "source": [
    "**Let's check the training dataframe now**"
   ]
  },
  {
   "cell_type": "code",
   "execution_count": 39,
   "metadata": {},
   "outputs": [
    {
     "data": {
      "text/plain": [
       "3    8989\n",
       "6    6198\n",
       "4    6077\n",
       "Name: emotion, dtype: int64"
      ]
     },
     "execution_count": 39,
     "metadata": {},
     "output_type": "execute_result"
    }
   ],
   "source": [
    "training_dataframe[\"emotion\"].value_counts()"
   ]
  },
  {
   "cell_type": "markdown",
   "metadata": {},
   "source": [
    "**Now that we have our data, let's extract the image pixels and convert them to the tensors so that they can be passes to the neural network**"
   ]
  },
  {
   "cell_type": "code",
   "execution_count": 40,
   "metadata": {},
   "outputs": [],
   "source": [
    "Image_array_data = training_dataframe[\"pixels\"].apply(lambda x : np.array(x.split(\" \")).reshape(48, 48, 1).astype(\"float32\"))"
   ]
  },
  {
   "cell_type": "markdown",
   "metadata": {},
   "source": [
    "**Shape of our Image_array_data**"
   ]
  },
  {
   "cell_type": "code",
   "execution_count": 41,
   "metadata": {},
   "outputs": [
    {
     "data": {
      "text/plain": [
       "(21264,)"
      ]
     },
     "execution_count": 41,
     "metadata": {},
     "output_type": "execute_result"
    }
   ],
   "source": [
    "Image_array_data.shape"
   ]
  },
  {
   "cell_type": "markdown",
   "metadata": {},
   "source": [
    "**Seems like everything is in one dimention, let's fix this**"
   ]
  },
  {
   "cell_type": "code",
   "execution_count": 42,
   "metadata": {},
   "outputs": [],
   "source": [
    "Image_array_data = np.stack(Image_array_data, axis = 0)"
   ]
  },
  {
   "cell_type": "markdown",
   "metadata": {},
   "source": [
    "**Now check the shape of Image_array_data**"
   ]
  },
  {
   "cell_type": "code",
   "execution_count": 43,
   "metadata": {},
   "outputs": [
    {
     "data": {
      "text/plain": [
       "(21264, 48, 48, 1)"
      ]
     },
     "execution_count": 43,
     "metadata": {},
     "output_type": "execute_result"
    }
   ],
   "source": [
    "Image_array_data.shape"
   ]
  },
  {
   "cell_type": "markdown",
   "metadata": {},
   "source": [
    "**There is something left that needs to be correct**"
   ]
  },
  {
   "cell_type": "code",
   "execution_count": 44,
   "metadata": {},
   "outputs": [
    {
     "data": {
      "text/plain": [
       "array([4, 6, 3], dtype=int64)"
      ]
     },
     "execution_count": 44,
     "metadata": {},
     "output_type": "execute_result"
    }
   ],
   "source": [
    "training_dataframe[\"emotion\"].unique()"
   ]
  },
  {
   "cell_type": "markdown",
   "metadata": {},
   "source": [
    "**Still, the classes are in the form `[4, 6, 3]`, we need to convert them into `[0, 1, 2]`**"
   ]
  },
  {
   "cell_type": "code",
   "execution_count": null,
   "metadata": {},
   "outputs": [],
   "source": [
    "training_dataframe['emotion'] = training_dataframe[\"emotion\"].map({3: 0, 4: 1,  6: 2})"
   ]
  },
  {
   "cell_type": "code",
   "execution_count": 46,
   "metadata": {},
   "outputs": [
    {
     "data": {
      "text/plain": [
       "array([1, 2, 0], dtype=int64)"
      ]
     },
     "execution_count": 46,
     "metadata": {},
     "output_type": "execute_result"
    }
   ],
   "source": [
    "training_dataframe[\"emotion\"].unique()"
   ]
  },
  {
   "cell_type": "markdown",
   "metadata": {},
   "source": [
    "**All correct now, let's proceed!!!**"
   ]
  },
  {
   "cell_type": "markdown",
   "metadata": {},
   "source": [
    "**Time to split the data into taining and testing set**"
   ]
  },
  {
   "cell_type": "code",
   "execution_count": 47,
   "metadata": {},
   "outputs": [],
   "source": [
    "X_train, X_test, y_train, y_test = train_test_split(Image_array_data, training_dataframe[\"emotion\"], test_size=0.1, stratify=training_dataframe[\"emotion\"])\n"
   ]
  },
  {
   "cell_type": "markdown",
   "metadata": {},
   "source": [
    "**Let's check the shape of the training and testing data**"
   ]
  },
  {
   "cell_type": "code",
   "execution_count": 48,
   "metadata": {},
   "outputs": [
    {
     "data": {
      "text/plain": [
       "((19137, 48, 48, 1), (2127, 48, 48, 1), (19137,), (2127,))"
      ]
     },
     "execution_count": 48,
     "metadata": {},
     "output_type": "execute_result"
    }
   ],
   "source": [
    "X_train.shape, X_test.shape, y_train.shape, y_test.shape"
   ]
  },
  {
   "cell_type": "markdown",
   "metadata": {},
   "source": [
    "**Now we need to normalise the input tensors and bring them in the range of `0-1`**"
   ]
  },
  {
   "cell_type": "code",
   "execution_count": 49,
   "metadata": {},
   "outputs": [],
   "source": [
    "X_train = X_train / 255.\n",
    "X_test = X_test / 255."
   ]
  },
  {
   "cell_type": "markdown",
   "metadata": {},
   "source": [
    "**Now we need to `one-hot-encode` the labels before passing them to the neural network**"
   ]
  },
  {
   "cell_type": "code",
   "execution_count": 50,
   "metadata": {},
   "outputs": [],
   "source": [
    "y_train = to_categorical(y_train, 3)\n",
    "y_test = to_categorical(y_test, 3)"
   ]
  },
  {
   "cell_type": "markdown",
   "metadata": {},
   "source": [
    "**Let's create the callbacks first**"
   ]
  },
  {
   "cell_type": "code",
   "execution_count": 57,
   "metadata": {},
   "outputs": [],
   "source": [
    "# Early stopping callback\n",
    "# This callback moniters the val_accuracy and stops training as soon as the it detects that the val_accuracy is not increasing with notucable change as mentioned in the min_delta parameter.\n",
    "# It also restores the best weigh vector from all the previous epochs\n",
    "e_stop = EarlyStopping(\n",
    "    monitor='val_accuracy',\n",
    "    min_delta=0.00005,\n",
    "    patience=7,\n",
    "    verbose=1,\n",
    "    restore_best_weights=True,\n",
    ")"
   ]
  },
  {
   "cell_type": "code",
   "execution_count": 58,
   "metadata": {},
   "outputs": [],
   "source": [
    "# Learning rate schedular callback\n",
    "# This callback monitors the val_accuracy, as soon as it detects the val_accuracy is not improving, it lowers the learning rate by a factor of `factor` (0.5) in our case.\n",
    "# The lower bound of the learning rate is 1e-7 in our case.\n",
    "lr_schedule = ReduceLROnPlateau(\n",
    "    monitor='val_accuracy',\n",
    "    factor=0.5,\n",
    "    patience=7,\n",
    "    min_lr=1e-7,\n",
    "    verbose=1,\n",
    ")\n"
   ]
  },
  {
   "cell_type": "markdown",
   "metadata": {},
   "source": [
    "**Now let's create a neural network model**"
   ]
  },
  {
   "cell_type": "markdown",
   "metadata": {},
   "source": [
    "> **This model architecture is taken from `https://www.kaggle.com/gauravsharma99/facial-emotion-recognition` with a certain amount of changes done according to our needs.**"
   ]
  },
  {
   "cell_type": "markdown",
   "metadata": {},
   "source": [
    "**The link given below, greatly explains the layers and parameters used in the model.**\n",
    "\n",
    "**`https://poloclub.github.io/cnn-explainer/`**"
   ]
  },
  {
   "cell_type": "markdown",
   "metadata": {},
   "source": [
    "**Here the `Sequential` model is used to create a linear stack of layers**\n",
    "\n",
    "\n",
    "* **Conv2D : a convolutional layer, with different filter sizes: 64, 128, 256 , kernel sizes : 5, 3 and activation : relu (rectified linear unit) used.**\n",
    "\n",
    "\n",
    "* **filters: sometimes called as windows, is a type of window, which hovers over the image and and generates the `feature map` as an output.**\n",
    "\n",
    "\n",
    "* **kernel size : also called as the filter size or window size, refers to the *dimentions of the sliding window*.**\n",
    "\n",
    "\n",
    "* **Dropout layer : Used to randomly turn off some of the neurons to prevent overfitting.**\n",
    "\n",
    "\n",
    "* **Maxpooling2D : Calculate the *maximum value for each patch of the feature map*. Here the patch refers to the dimentions of the pool,  (2, 2) in our case.**\n",
    "\n",
    "\n",
    "* **BatchNormalization : It solves the problem of internal covariate shift. by this, we ensure that the input for every layer is distributed around the same mean and standard deviation and does not affect much from the previous layer's changes.**\n",
    "\n",
    "\n",
    "* **Flatten : This layer flattens the output from the convolutional layer into *1-D vector* because it need to be passes from a classifier (ANN) at the end.**"
   ]
  },
  {
   "cell_type": "code",
   "execution_count": 59,
   "metadata": {},
   "outputs": [],
   "source": [
    "model = Sequential([\n",
    "    tf.keras.layers.Conv2D(filters=64,\n",
    "                           kernel_size=(5, 5),\n",
    "                           input_shape=(48, 48, 1),\n",
    "                           activation=\"relu\"),\n",
    "\n",
    "    tf.keras.layers.BatchNormalization(),\n",
    "\n",
    "    tf.keras.layers.Conv2D(filters=64,\n",
    "                           kernel_size=(5, 5),\n",
    "                           activation=\"relu\"),\n",
    "\n",
    "    tf.keras.layers.BatchNormalization(),\n",
    "\n",
    "    tf.keras.layers.MaxPooling2D(pool_size=(2, 2)),\n",
    "\n",
    "    tf.keras.layers.Dropout(0.4),\n",
    "\n",
    "    tf.keras.layers.Conv2D(filters=128,\n",
    "                           kernel_size=(3, 3),\n",
    "                           activation=\"relu\"),\n",
    "\n",
    "    tf.keras.layers.BatchNormalization(),\n",
    "\n",
    "    tf.keras.layers.Conv2D(filters=128,\n",
    "                           kernel_size=(3, 3),\n",
    "                           activation=\"relu\"),\n",
    "\n",
    "    tf.keras.layers.BatchNormalization(),\n",
    "\n",
    "    tf.keras.layers.MaxPooling2D(pool_size=(2, 2)),\n",
    "\n",
    "    tf.keras.layers.Dropout(0.4),\n",
    "\n",
    "    tf.keras.layers.Conv2D(filters=256,\n",
    "                           kernel_size=(5, 5),\n",
    "                           activation=\"relu\"),\n",
    "\n",
    "    tf.keras.layers.BatchNormalization(),\n",
    "\n",
    "    tf.keras.layers.Conv2D(filters=256,\n",
    "                           kernel_size=(3, 3),\n",
    "                           activation=\"relu\"),\n",
    "\n",
    "    tf.keras.layers.BatchNormalization(),\n",
    "\n",
    "    tf.keras.layers.MaxPooling2D(pool_size=(2, 2)),\n",
    "\n",
    "    tf.keras.layers.Dropout(0.5),\n",
    "\n",
    "    tf.keras.layers.Flatten(),\n",
    "\n",
    "    tf.keras.layers.Dense(128, activation=\"relu\"),\n",
    "\n",
    "    tf.keras.layers.BatchNormalization(),\n",
    "\n",
    "    tf.keras.layers.Dropout(0.6),\n",
    "    \n",
    "    tf.keras.layers.Dense(3, activation=\"softmax\")\n",
    "])\n"
   ]
  },
  {
   "cell_type": "markdown",
   "metadata": {},
   "source": [
    "**Let's compile the model**"
   ]
  },
  {
   "cell_type": "markdown",
   "metadata": {},
   "source": [
    "**Here the loss is `categorical crossentropy`, for multiclass classification.**"
   ]
  },
  {
   "cell_type": "code",
   "execution_count": 60,
   "metadata": {},
   "outputs": [],
   "source": [
    "model.compile(loss=\"categorical_crossentropy\",\n",
    "              optimizer=tf.keras.optimizers.Adam(learning_rate=0.0001),\n",
    "              metrics=[\"accuracy\"]\n",
    "             )"
   ]
  },
  {
   "cell_type": "markdown",
   "metadata": {},
   "source": [
    "**Finally, its time to fit the model**"
   ]
  },
  {
   "cell_type": "code",
   "execution_count": 64,
   "metadata": {},
   "outputs": [
    {
     "name": "stdout",
     "output_type": "stream",
     "text": [
      "Epoch 1/100\n",
      "598/598 [==============================] - 26s 34ms/step - loss: 1.6876 - accuracy: 0.3970 - val_loss: 1.0271 - val_accuracy: 0.4890 - lr: 1.0000e-04\n",
      "Epoch 2/100\n",
      "598/598 [==============================] - 19s 31ms/step - loss: 1.3787 - accuracy: 0.4641 - val_loss: 1.0324 - val_accuracy: 0.5016 - lr: 1.0000e-04\n",
      "Epoch 3/100\n",
      "598/598 [==============================] - 19s 31ms/step - loss: 1.2308 - accuracy: 0.5050 - val_loss: 0.9086 - val_accuracy: 0.5708 - lr: 1.0000e-04\n",
      "Epoch 4/100\n",
      "598/598 [==============================] - 19s 31ms/step - loss: 1.0815 - accuracy: 0.5406 - val_loss: 0.8698 - val_accuracy: 0.5839 - lr: 1.0000e-04\n",
      "Epoch 5/100\n",
      "598/598 [==============================] - 19s 31ms/step - loss: 0.9931 - accuracy: 0.5612 - val_loss: 0.9286 - val_accuracy: 0.5585 - lr: 1.0000e-04\n",
      "Epoch 6/100\n",
      "598/598 [==============================] - 19s 31ms/step - loss: 0.9111 - accuracy: 0.5850 - val_loss: 0.8275 - val_accuracy: 0.6084 - lr: 1.0000e-04\n",
      "Epoch 7/100\n",
      "598/598 [==============================] - 18s 31ms/step - loss: 0.8463 - accuracy: 0.6091 - val_loss: 0.8242 - val_accuracy: 0.6154 - lr: 1.0000e-04\n",
      "Epoch 8/100\n",
      "598/598 [==============================] - 18s 30ms/step - loss: 0.8040 - accuracy: 0.6289 - val_loss: 0.7668 - val_accuracy: 0.6601 - lr: 1.0000e-04\n",
      "Epoch 9/100\n",
      "598/598 [==============================] - 18s 30ms/step - loss: 0.7608 - accuracy: 0.6480 - val_loss: 0.7285 - val_accuracy: 0.6808 - lr: 1.0000e-04\n",
      "Epoch 10/100\n",
      "598/598 [==============================] - 18s 30ms/step - loss: 0.7331 - accuracy: 0.6628 - val_loss: 0.7524 - val_accuracy: 0.6554 - lr: 1.0000e-04\n",
      "Epoch 11/100\n",
      "598/598 [==============================] - 18s 30ms/step - loss: 0.6954 - accuracy: 0.6847 - val_loss: 0.7336 - val_accuracy: 0.6657 - lr: 1.0000e-04\n",
      "Epoch 12/100\n",
      "598/598 [==============================] - 18s 30ms/step - loss: 0.6764 - accuracy: 0.6984 - val_loss: 0.6809 - val_accuracy: 0.7043 - lr: 1.0000e-04\n",
      "Epoch 13/100\n",
      "598/598 [==============================] - 18s 30ms/step - loss: 0.6547 - accuracy: 0.7089 - val_loss: 0.6837 - val_accuracy: 0.6968 - lr: 1.0000e-04\n",
      "Epoch 14/100\n",
      "598/598 [==============================] - 18s 30ms/step - loss: 0.6365 - accuracy: 0.7173 - val_loss: 0.6760 - val_accuracy: 0.7010 - lr: 1.0000e-04\n",
      "Epoch 15/100\n",
      "598/598 [==============================] - 18s 30ms/step - loss: 0.6187 - accuracy: 0.7337 - val_loss: 0.6494 - val_accuracy: 0.7174 - lr: 1.0000e-04\n",
      "Epoch 16/100\n",
      "598/598 [==============================] - 18s 30ms/step - loss: 0.5902 - accuracy: 0.7456 - val_loss: 0.6343 - val_accuracy: 0.7320 - lr: 1.0000e-04\n",
      "Epoch 17/100\n",
      "598/598 [==============================] - 18s 30ms/step - loss: 0.5728 - accuracy: 0.7528 - val_loss: 0.7205 - val_accuracy: 0.6864 - lr: 1.0000e-04\n",
      "Epoch 18/100\n",
      "598/598 [==============================] - 18s 30ms/step - loss: 0.5549 - accuracy: 0.7622 - val_loss: 0.6485 - val_accuracy: 0.7334 - lr: 1.0000e-04\n",
      "Epoch 19/100\n",
      "598/598 [==============================] - 18s 30ms/step - loss: 0.5459 - accuracy: 0.7674 - val_loss: 0.6214 - val_accuracy: 0.7499 - lr: 1.0000e-04\n",
      "Epoch 20/100\n",
      "598/598 [==============================] - 18s 30ms/step - loss: 0.5168 - accuracy: 0.7805 - val_loss: 0.6648 - val_accuracy: 0.7315 - lr: 1.0000e-04\n",
      "Epoch 21/100\n",
      "598/598 [==============================] - 18s 30ms/step - loss: 0.5083 - accuracy: 0.7857 - val_loss: 0.6596 - val_accuracy: 0.7400 - lr: 1.0000e-04\n",
      "Epoch 22/100\n",
      "598/598 [==============================] - 18s 30ms/step - loss: 0.4894 - accuracy: 0.8000 - val_loss: 0.6445 - val_accuracy: 0.7391 - lr: 1.0000e-04\n",
      "Epoch 23/100\n",
      "598/598 [==============================] - 18s 30ms/step - loss: 0.4759 - accuracy: 0.8009 - val_loss: 0.6319 - val_accuracy: 0.7466 - lr: 1.0000e-04\n",
      "Epoch 24/100\n",
      "598/598 [==============================] - 18s 30ms/step - loss: 0.4640 - accuracy: 0.8105 - val_loss: 0.6554 - val_accuracy: 0.7377 - lr: 1.0000e-04\n",
      "Epoch 25/100\n",
      "598/598 [==============================] - 18s 30ms/step - loss: 0.4429 - accuracy: 0.8222 - val_loss: 0.6304 - val_accuracy: 0.7508 - lr: 1.0000e-04\n",
      "Epoch 26/100\n",
      "598/598 [==============================] - 18s 30ms/step - loss: 0.4255 - accuracy: 0.8272 - val_loss: 0.6585 - val_accuracy: 0.7471 - lr: 1.0000e-04\n",
      "Epoch 27/100\n",
      "598/598 [==============================] - 18s 30ms/step - loss: 0.4174 - accuracy: 0.8313 - val_loss: 0.6511 - val_accuracy: 0.7475 - lr: 1.0000e-04\n",
      "Epoch 28/100\n",
      "598/598 [==============================] - 18s 30ms/step - loss: 0.3969 - accuracy: 0.8443 - val_loss: 0.6562 - val_accuracy: 0.7593 - lr: 1.0000e-04\n",
      "Epoch 29/100\n",
      "598/598 [==============================] - 18s 30ms/step - loss: 0.3851 - accuracy: 0.8426 - val_loss: 0.6874 - val_accuracy: 0.7541 - lr: 1.0000e-04\n",
      "Epoch 30/100\n",
      "598/598 [==============================] - 18s 30ms/step - loss: 0.3565 - accuracy: 0.8584 - val_loss: 0.6656 - val_accuracy: 0.7649 - lr: 1.0000e-04\n",
      "Epoch 31/100\n",
      "598/598 [==============================] - 18s 30ms/step - loss: 0.3585 - accuracy: 0.8588 - val_loss: 0.6719 - val_accuracy: 0.7527 - lr: 1.0000e-04\n",
      "Epoch 32/100\n",
      "598/598 [==============================] - 18s 30ms/step - loss: 0.3416 - accuracy: 0.8652 - val_loss: 0.6752 - val_accuracy: 0.7645 - lr: 1.0000e-04\n",
      "Epoch 33/100\n",
      "598/598 [==============================] - 18s 30ms/step - loss: 0.3197 - accuracy: 0.8755 - val_loss: 0.6995 - val_accuracy: 0.7522 - lr: 1.0000e-04\n",
      "Epoch 34/100\n",
      "598/598 [==============================] - 18s 30ms/step - loss: 0.3034 - accuracy: 0.8800 - val_loss: 0.7422 - val_accuracy: 0.7494 - lr: 1.0000e-04\n",
      "Epoch 35/100\n",
      "598/598 [==============================] - 18s 30ms/step - loss: 0.2867 - accuracy: 0.8898 - val_loss: 0.7386 - val_accuracy: 0.7546 - lr: 1.0000e-04\n",
      "Epoch 36/100\n",
      "598/598 [==============================] - 18s 31ms/step - loss: 0.2761 - accuracy: 0.8940 - val_loss: 0.7370 - val_accuracy: 0.7513 - lr: 1.0000e-04\n",
      "Epoch 37/100\n",
      "597/598 [============================>.] - ETA: 0s - loss: 0.2627 - accuracy: 0.8998Restoring model weights from the end of the best epoch: 30.\n",
      "\n",
      "Epoch 00037: ReduceLROnPlateau reducing learning rate to 4.999999873689376e-05.\n",
      "598/598 [==============================] - 19s 33ms/step - loss: 0.2627 - accuracy: 0.8998 - val_loss: 0.7627 - val_accuracy: 0.7546 - lr: 1.0000e-04\n",
      "Epoch 00037: early stopping\n"
     ]
    }
   ],
   "source": [
    "history = model.fit(X_train,\n",
    "                    y_train,\n",
    "                    epochs=100,\n",
    "                    steps_per_epoch=len(X_train)//32,  #Creating the batches of size 32\n",
    "                    validation_data=(X_test, y_test),\n",
    "                    callbacks=[e_stop, lr_schedule]\n",
    "                    )"
   ]
  },
  {
   "cell_type": "markdown",
   "metadata": {},
   "source": [
    "**As it can be seen from the above logs, the training stopped at the 37th epoch. It restroed the best weights form the previous all epochs (30)**"
   ]
  },
  {
   "cell_type": "markdown",
   "metadata": {},
   "source": [
    "**Epoch 00037: ReduceLROnPlateau reducing learning rate to 4.999999873689376e-05.**\n",
    "\n",
    "**598/598 [==============================] - 19s 33ms/step - loss: 0.2627 - accuracy: 0.8998 - val_loss: 0.7627 - val_accuracy: 0.7546 - lr: 1.0000e-04**\n",
    "\n",
    "**Epoch 00037: early stopping**\n"
   ]
  },
  {
   "cell_type": "markdown",
   "metadata": {},
   "source": [
    "**Let's save the model so we don't need to train it again and again**"
   ]
  },
  {
   "cell_type": "code",
   "execution_count": 66,
   "metadata": {},
   "outputs": [],
   "source": [
    "model.save(\"final_trained_model.h5\")"
   ]
  },
  {
   "cell_type": "markdown",
   "metadata": {},
   "source": [
    "**Let's evaluate the model on the test dataset**"
   ]
  },
  {
   "cell_type": "code",
   "execution_count": 67,
   "metadata": {},
   "outputs": [
    {
     "name": "stdout",
     "output_type": "stream",
     "text": [
      "67/67 [==============================] - 1s 8ms/step - loss: 0.6656 - accuracy: 0.7649\n"
     ]
    },
    {
     "data": {
      "text/plain": [
       "[0.6655641794204712, 0.7649271488189697]"
      ]
     },
     "execution_count": 67,
     "metadata": {},
     "output_type": "execute_result"
    }
   ],
   "source": [
    "model.evaluate(X_test, y_test)"
   ]
  },
  {
   "cell_type": "markdown",
   "metadata": {},
   "source": [
    "**This model is performing quiet decently**\n",
    "* **Accuracy : 76.49%**\n",
    "* **Loss : 66.55%**"
   ]
  },
  {
   "cell_type": "markdown",
   "metadata": {},
   "source": [
    "**Now let's do some visualization**\n",
    "\n",
    "* **Plotting loss curves**\n",
    "* **Plotting confusion matrix**"
   ]
  },
  {
   "cell_type": "code",
   "execution_count": 68,
   "metadata": {},
   "outputs": [],
   "source": [
    "def plot_loss_curves(history):\n",
    "    \"\"\"\n",
    "    Args:\n",
    "        history (model history object): a model history object to extract loss and accuracy vectors and plot them separately\n",
    "    \n",
    "    Returns:\n",
    "        separate loss curves for training and validation metrics\n",
    "    \"\"\"\n",
    "    loss = history.history[\"loss\"]\n",
    "    val_loss = history.history[\"val_loss\"]\n",
    "\n",
    "    accuracy = history.history[\"accuracy\"]\n",
    "    val_accuracy = history.history[\"val_accuracy\"]\n",
    "\n",
    "    epochs = range(len(history.history[\"loss\"]))  # how many epochs\n",
    "\n",
    "    # Plot loss\n",
    "    plt.plot(epochs, loss, label=\"training_loss\")\n",
    "    plt.plot(epochs, val_loss, label=\"val_loss\")\n",
    "    plt.title(\"loss\")\n",
    "    plt.xlabel(\"epochs\")\n",
    "    plt.legend()\n",
    "\n",
    "    # PLot accuracy\n",
    "    plt.figure()  # add every time when needed a new figure\n",
    "    plt.plot(epochs, accuracy, label=\"training_accuracy\")\n",
    "    plt.plot(epochs, val_accuracy, label=\"val_accuracy\")\n",
    "    plt.title(\"accuracy\")\n",
    "    plt.xlabel(\"epochs\")\n",
    "    plt.legend()\n"
   ]
  },
  {
   "cell_type": "code",
   "execution_count": 70,
   "metadata": {},
   "outputs": [
    {
     "data": {
      "image/png": "[encoded data removed]",
      "text/plain": [
       "<Figure size 432x288 with 1 Axes>"
      ]
     },
     "metadata": {
      "needs_background": "light"
     },
     "output_type": "display_data"
    },
    {
     "data": {
      "image/png": "[encoded data removed]",
      "text/plain": [
       "<Figure size 432x288 with 1 Axes>"
      ]
     },
     "metadata": {
      "needs_background": "light"
     },
     "output_type": "display_data"
    }
   ],
   "source": [
    "plot_loss_curves(history)"
   ]
  },
  {
   "cell_type": "markdown",
   "metadata": {},
   "source": [
    "**As seen from the loss curves, our model overfits the data a little bit, but lets keep it the way it is.**"
   ]
  },
  {
   "cell_type": "code",
   "execution_count": 80,
   "metadata": {},
   "outputs": [
    {
     "data": {
      "text/plain": [
       "<AxesSubplot:title={'center':'Confusion Matrix'}, xlabel='Predicted label', ylabel='True label'>"
      ]
     },
     "execution_count": 80,
     "metadata": {},
     "output_type": "execute_result"
    },
    {
     "data": {
      "image/png": "[encoded data removed]",
      "text/plain": [
       "<Figure size 504x504 with 2 Axes>"
      ]
     },
     "metadata": {
      "needs_background": "light"
     },
     "output_type": "display_data"
    }
   ],
   "source": [
    "predictions = model.predict(X_test)\n",
    "# print(predictions.shape)\n",
    "# Out: (2127, 3)\n",
    "\n",
    "# print(predictions[0])\n",
    "# Out: [9.9655080e-01 2.4436100e-04 3.2048512e-03]\n",
    "# Here we have predicted probability for each class, but we need the class with maximum probability.\n",
    "\n",
    "# print(\"Getting the index of class with maximum probability.\")\n",
    "predictions = np.argmax(predictions, axis=1) # Getting the index of maximum probability class.\n",
    "\n",
    "# print(predictions)\n",
    "# Out: [0 2 1 ... 2 0 1]\n",
    "# Now we have the 1-D list of the classes having maximum probability in their respective lists\n",
    "\n",
    "plot_confusion_matrix(np.argmax(y_test, axis=1), predictions, figsize=(7, 7))"
   ]
  },
  {
   "cell_type": "markdown",
   "metadata": {},
   "source": [
    "**Hmm, our model predicted:**\n",
    "\n",
    "* **`779` correct images for class `1`**\n",
    "* **`388` correct images for class `2`**\n",
    "* **`460` correst images for class `3`**"
   ]
  },
  {
   "cell_type": "markdown",
   "metadata": {},
   "source": [
    "**Now let's take a sample image and try to plot and predict its class**"
   ]
  },
  {
   "cell_type": "code",
   "execution_count": 83,
   "metadata": {},
   "outputs": [],
   "source": [
    "def load_and_prepare_image(filename, image_shape=48):\n",
    "    \"\"\"\n",
    "        Args:\n",
    "            filename (str) : image path for reading and processing the image\n",
    "            image_shape (str) : image shape to resize the image accordingly\n",
    "        Returns:\n",
    "            An image tensor of size (image_shape, image_shape)\n",
    "    \"\"\"\n",
    "    img = tf.io.read_file(filename)\n",
    "    img = tf.image.decode_image(img, 1)\n",
    "    img = tf.image.resize(img, size=[image_shape, image_shape])\n",
    "    img = img/255.\n",
    "    return img\n",
    "\n",
    "\n",
    "# The classes list, these are the available classes that our model will try to predict\n",
    "classes = [\"happy\", \"sad\", \"neutral\"]\n",
    "\n",
    "\n",
    "def predict_class(model, filename):\n",
    "    \"\"\"\n",
    "        Args:\n",
    "            model (tensorflow model object) : a model which will predict the class of the image\n",
    "            filename (str) : image path for predicting the class\n",
    "    \"\"\"\n",
    "    img = load_and_prepare_image(filename)\n",
    "    plt.imshow(img)\n",
    "    predict_x = model.predict(tf.expand_dims(img, axis=0))\n",
    "    class_name = classes[tf.argmax(predict_x[0])]\n",
    "    print(class_name)\n"
   ]
  },
  {
   "cell_type": "code",
   "execution_count": 85,
   "metadata": {},
   "outputs": [
    {
     "name": "stdout",
     "output_type": "stream",
     "text": [
      "happy\n"
     ]
    },
    {
     "data": {
      "image/png": "[encoded data removed]",
      "text/plain": [
       "<Figure size 432x288 with 1 Axes>"
      ]
     },
     "metadata": {
      "needs_background": "light"
     },
     "output_type": "display_data"
    }
   ],
   "source": [
    "predict_class(model=model, filename=\"images_f/ha.jpg\")\n"
   ]
  },
  {
   "cell_type": "code",
   "execution_count": 86,
   "metadata": {},
   "outputs": [
    {
     "name": "stdout",
     "output_type": "stream",
     "text": [
      "neutral\n"
     ]
    },
    {
     "data": {
      "image/png": "[encoded data removed]",
      "text/plain": [
       "<Figure size 432x288 with 1 Axes>"
      ]
     },
     "metadata": {
      "needs_background": "light"
     },
     "output_type": "display_data"
    }
   ],
   "source": [
    "predict_class(model=model, filename=\"images_f/ss.jpg\")"
   ]
  },
  {
   "cell_type": "code",
   "execution_count": 87,
   "metadata": {},
   "outputs": [
    {
     "name": "stdout",
     "output_type": "stream",
     "text": [
      "sad\n"
     ]
    },
    {
     "data": {
      "image/png": "[encoded data removed]",
      "text/plain": [
       "<Figure size 432x288 with 1 Axes>"
      ]
     },
     "metadata": {
      "needs_background": "light"
     },
     "output_type": "display_data"
    }
   ],
   "source": [
    "predict_class(model=model, filename=\"images_f/sa.jpg\")"
   ]
  },
  {
   "cell_type": "markdown",
   "metadata": {},
   "source": [
    "**With this the main part (Getting a trained model from the data) is completed.**\n",
    "\n",
    "**In project_em_predict.py, we've used OpenCV to complete the project and predict the emoji out of the predicted class.**"
   ]
  },
  {
   "cell_type": "markdown",
   "metadata": {},
   "source": [
    "> **Note: Some alternate models were also created containing more number of classes, slightly different architectures, etc... but they have low accuracy. Some of them are provided on the alternate_models directory on the github.**"
   ]
  },
  {
   "cell_type": "markdown",
   "metadata": {},
   "source": []
  }
 ],
 "metadata": {
  "interpreter": {
   "hash": "1c1c80ff91f5efb1e6ccb3e696d6688d05e8bc099ebcbd0419f451c49c4c9dfd"
  },
  "kernelspec": {
   "display_name": "Python 3.8.10 64-bit ('ten-gpu': venv)",
   "language": "python",
   "name": "python3"
  },
  "language_info": {
   "codemirror_mode": {
    "name": "ipython",
    "version": 3
   },
   "file_extension": ".py",
   "mimetype": "text/x-python",
   "name": "python",
   "nbconvert_exporter": "python",
   "pygments_lexer": "ipython3",
   "version": "3.8.10"
  },
  "orig_nbformat": 4
 },
 "nbformat": 4,
 "nbformat_minor": 2
}
